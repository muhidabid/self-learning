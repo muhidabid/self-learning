{
 "cells": [
  {
   "cell_type": "code",
   "execution_count": null,
   "metadata": {},
   "outputs": [],
   "source": [
    "import os\n",
    "from langgraph.graph import END, StateGraph\n",
    "from langchain_openai import ChatOpenAI\n",
    "from typing import TypedDict\n",
    "\n",
    "# Set your API key\n",
    "os.environ[\"OPENAI_API_KEY\"] = \"\"\n",
    "\n",
    "# Initialize the ChatGPT model\n",
    "chat_model = ChatOpenAI(model=\"gpt-4o-mini\", temperature=0.7)\n",
    "\n",
    "# Define the state schema\n",
    "class ChatbotState(TypedDict):\n",
    "    user_input: str\n",
    "    response: str\n",
    "\n",
    "# Define the chatbot logic\n",
    "def chatbot_logic(state: ChatbotState) -> ChatbotState:\n",
    "    user_input = state[\"user_input\"]\n",
    "    response = chat_model.invoke(user_input)\n",
    "    return {\"user_input\": user_input, \"response\": response}\n",
    "\n",
    "# Create the LangGraph\n",
    "workflow = StateGraph(ChatbotState)\n",
    "workflow.add_node(\"chatbot\", chatbot_logic)\n",
    "workflow.set_entry_point(\"chatbot\")\n",
    "workflow.add_edge(\"chatbot\", END)\n",
    "\n",
    "graph = workflow.compile()\n",
    "\n",
    "# Run the chatbot\n",
    "def main():\n",
    "    print(\"🟢 Chatbot is running. Type 'exit' to stop.\")\n",
    "    while True:\n",
    "        user_input = input(\"You: \")\n",
    "        if user_input.lower() == \"exit\":\n",
    "            print(\"👋 Goodbye!\")\n",
    "            break\n",
    "        response = graph.invoke({\"user_input\": user_input})\n",
    "        print(f\"ChatGPT: {response['response']}\")\n",
    "\n",
    "if __name__ == \"__main__\":\n",
    "    main()\n"
   ]
  },
  {
   "cell_type": "code",
   "execution_count": null,
   "metadata": {},
   "outputs": [],
   "source": []
  }
 ],
 "metadata": {
  "kernelspec": {
   "display_name": "Python 3",
   "language": "python",
   "name": "python3"
  },
  "language_info": {
   "codemirror_mode": {
    "name": "ipython",
    "version": 3
   },
   "file_extension": ".py",
   "mimetype": "text/x-python",
   "name": "python",
   "nbconvert_exporter": "python",
   "pygments_lexer": "ipython3",
   "version": "3.11.0"
  }
 },
 "nbformat": 4,
 "nbformat_minor": 2
}
